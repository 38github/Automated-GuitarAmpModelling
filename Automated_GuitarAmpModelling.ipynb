{
  "nbformat": 4,
  "nbformat_minor": 0,
  "metadata": {
    "colab": {
      "name": "Automated-GuitarAmpModelling.ipynb",
      "provenance": [],
      "collapsed_sections": []
    },
    "kernelspec": {
      "name": "python3",
      "display_name": "Python 3"
    },
    "language_info": {
      "name": "python"
    },
    "accelerator": "GPU"
  },
  "cells": [
    {
      "cell_type": "code",
      "metadata": {
        "id": "kCHor3Bs-k09"
      },
      "source": [
        "!git clone https://github.com/MaxPayne86/Automated-GuitarAmpModelling.git"
      ],
      "execution_count": null,
      "outputs": []
    },
    {
      "cell_type": "code",
      "metadata": {
        "id": "U_nepUoo-19h"
      },
      "source": [
        "cd Automated-GuitarAmpModelling/"
      ],
      "execution_count": null,
      "outputs": []
    },
    {
      "cell_type": "code",
      "metadata": {
        "id": "x-EmBEsI_AGC"
      },
      "source": [
        "!git checkout aidadsp_devel"
      ],
      "execution_count": null,
      "outputs": []
    },
    {
      "cell_type": "code",
      "metadata": {
        "id": "x7gLbkSo_DjW"
      },
      "source": [
        "!git submodule update --init --recursive"
      ],
      "execution_count": null,
      "outputs": []
    },
    {
      "cell_type": "code",
      "metadata": {
        "id": "b4y-ZyhfDsgD"
      },
      "source": [
        "!export CUBLAS_WORKSPACE_CONFIG=:4096:2"
      ],
      "execution_count": null,
      "outputs": []
    },
    {
      "cell_type": "code",
      "metadata": {
        "id": "WMuoLJ2x_GYr"
      },
      "source": [
        "!python dist_model_recnet.py -l \"RNN3-aidadsp-1\" -eps 175 --seed 39 -lm False"
      ],
      "execution_count": null,
      "outputs": []
    },
    {
      "cell_type": "code",
      "metadata": {
        "id": "qNC5UHBS6-x-"
      },
      "source": [
        "!python plot.py aidadsp-1"
      ],
      "execution_count": null,
      "outputs": []
    }
  ]
}
