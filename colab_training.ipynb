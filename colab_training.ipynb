{
  "nbformat": 4,
  "nbformat_minor": 0,
  "metadata": {
    "accelerator": "GPU",
    "colab": {
      "name": "colab_training.ipynb",
      "provenance": [],
      "collapsed_sections": []
    },
    "kernelspec": {
      "display_name": "Python 3",
      "name": "python3"
    },
    "language_info": {
      "name": "python"
    }
  },
  "cells": [
    {
      "cell_type": "code",
      "metadata": {
        "id": "FCRhPNGrBUN8"
      },
      "source": [
        "!git clone https://github.com/MaxPayne86/Automated-GuitarAmpModelling.git"
      ],
      "execution_count": null,
      "outputs": []
    },
    {
      "cell_type": "code",
      "metadata": {
        "id": "sH-hUlLahokT"
      },
      "source": [
        "cd Automated-GuitarAmpModelling/\n"
      ],
      "execution_count": null,
      "outputs": []
    },
    {
      "cell_type": "code",
      "metadata": {
        "id": "qGLvi0yQiJNg"
      },
      "source": [
        "!git submodule update --init --recursive"
      ],
      "execution_count": null,
      "outputs": []
    },
    {
      "cell_type": "code",
      "metadata": {
        "id": "1RST7hztmHMg"
      },
      "source": [
        "# Upload your input and target wav files, and add your json config to the Configs directory.\n",
        "\n",
        "# Name the .wav files and config file appropriately in the following command\n",
        "!python prep_wav.py -f input1.wav target1.wav input2.wav target2.wav -l \"RNN3-aidadsp-1\""
      ],
      "execution_count": 7,
      "outputs": []
    },
    {
      "cell_type": "markdown",
      "metadata": {
        "id": "K-h0txTeyHJk"
      },
      "source": [
        ""
      ]
    },
    {
      "cell_type": "code",
      "metadata": {
        "id": "1tA0uN4MC_Zx"
      },
      "source": [
        "# Name your config in the following command\n",
        "# The model will be located in Results/\n",
        "!python dist_model_recnet.py -l \"RNN3-aidadsp-1\""
      ],
      "execution_count": null,
      "outputs": []
    },
    {
      "cell_type": "code",
      "metadata": {
        "id": "nwf9Mu8Y1wTq"
      },
      "source": [
        "# Name your config in the following command\n",
        "# The plots will be generated in the Results/modelName/ directory\n",
        "!python plot.py aidadsp-1\n"
      ],
      "execution_count": null,
      "outputs": []
    }
  ]
}
